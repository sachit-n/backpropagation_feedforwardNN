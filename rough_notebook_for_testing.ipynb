{
 "cells": [
  {
   "cell_type": "markdown",
   "metadata": {},
   "source": [
    "http://deeplearning.stanford.edu/wiki/index.php/Backpropagation_Algorithm"
   ]
  },
  {
   "cell_type": "code",
   "execution_count": null,
   "metadata": {},
   "outputs": [],
   "source": []
  },
  {
   "cell_type": "code",
   "execution_count": 1,
   "metadata": {},
   "outputs": [],
   "source": [
    "#!/usr/bin/env python3\n",
    "# -*- coding: utf-8 -*-\n",
    "\"\"\"\n",
    "Created on Mon Apr 15 22:04:56 2019\n",
    "\n",
    "@author: sachitnagpal\n",
    "\"\"\"\n",
    "#%%\n",
    "\n",
    "'''\n",
    "Steps: \n",
    "    1. Initialize Weights Matrix\n",
    "    2. Forward propagation\n",
    "    3. Compute weight gradients using backpropagation\n",
    "        i) Begin from output layer and calculate derivative wrt z for each output node\n",
    "        ii) Compute the same for each node in previous layer recursively\n",
    "        iii) Compute weight and bias gradients\n",
    "    4. Update weights and biases\n",
    "    5. Repeat till no. of epochs\n",
    "'''\n",
    "\n",
    "#%%\n",
    "\n",
    "import numpy as np\n",
    "from math import e\n",
    "from scipy.misc import derivative\n",
    "\n",
    "\n",
    "#%%\n",
    "def sigmoid(x):\n",
    "    return 1/(1+e**(-x))\n",
    "\n",
    "def tanh(x):\n",
    "    return (e**x-e**(-x))/e**x+e**(-x)\n",
    "\n",
    "\n",
    "#%%\n",
    "class network:\n",
    "    \n",
    "    def __init__(self, layerN, activation=sigmoid):\n",
    "        self.activation = activation\n",
    "        self.layerN = layerN\n",
    "        self.W = {}                                 #Will contain weight matrices. Each key represents a layer and corresponding value is weight matrix for that layer\n",
    "        self.Z = {}                                 #Will contain Z vectors (i.e. XW + b). Each key represents a layer i and corresponding value is the vector Zi for that layer. Vector Zi has the Zij value for node j in layer i\n",
    "        self.A = {}                                 #Will contain the activation vectors (i.e. f(Z)). Each key represents a layer i and corresponding value is the vector Ai for that layer. Vector Ai has the activation j for each node j in layer i\n",
    "    \n",
    "    #defining function which initializes weights and outputs the weight matrix for each layer\n",
    "    #The parameter, layerN is a list containing the number of nodes in each layer, including the input and output layers. Eg. layerN = [10000, 5,5,10] means the input layer has 10000 nodes, there are two hidden layers with 5 nodes each and the ouput layer has 10 nodes.   \n",
    "    def initialize_weights(self):\n",
    "        for l in range(1, len(self.layerN)):\n",
    "            self.W[l] =  np.asmatrix([np.random.normal(loc=0, scale=0.1, size=self.layerN[l]) for i in range(self.layerN[l-1])]) #generate n random nos from N(0,0.1) and store in layerN[l]xlayerN[l+1] dimension matrix\n",
    "    \n",
    "    #Perform forward propagation\n",
    "    def forward_prop(self,X):\n",
    "        self.Z[1] = np.matmul(X, self.W[1])                                                     #Compute Z vector for the first layer. Store it in key 1 of dictionary Z\n",
    "        self.A[1] = np.asmatrix([self.activation(i) for i in self.Z[1].A1])                     #Compute activation vector for the first layer. Store it in key 1 of dictionary A\n",
    "        for i in range(2, len(self.W)+1):\n",
    "            self.Z[i] = np.matmul(self.A[i-1], self.W[i])                                       #Compute Z vector for the layer i\n",
    "            self.A[i] = np.asmatrix([self.activation(i) for i in self.Z[i].A1])                 #Compute activation vector for the layer i. The last activation vector is the predicted Y.\n",
    "    \n",
    "    #update weights using backpropagation        \n",
    "    def compute_gradients(self, X, Y):\n",
    "        Y-self.A[len(self.A)]\n",
    "        return \"updated weights\"\n",
    "            \n",
    "    \n",
    "            \n",
    "    \n",
    "            "
   ]
  },
  {
   "cell_type": "code",
   "execution_count": 3,
   "metadata": {},
   "outputs": [
    {
     "name": "stdout",
     "output_type": "stream",
     "text": [
      "hello\n"
     ]
    }
   ],
   "source": []
  },
  {
   "cell_type": "code",
   "execution_count": null,
   "metadata": {},
   "outputs": [],
   "source": []
  }
 ],
 "metadata": {
  "kernelspec": {
   "display_name": "Python 3",
   "language": "python",
   "name": "python3"
  },
  "language_info": {
   "codemirror_mode": {
    "name": "ipython",
    "version": 2
   },
   "file_extension": ".py",
   "mimetype": "text/x-python",
   "name": "python",
   "nbconvert_exporter": "python",
   "pygments_lexer": "ipython2",
   "version": "2.7.15"
  }
 },
 "nbformat": 4,
 "nbformat_minor": 2
}
